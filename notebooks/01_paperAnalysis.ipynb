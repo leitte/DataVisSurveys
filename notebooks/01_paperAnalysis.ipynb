{
 "cells": [
  {
   "cell_type": "code",
   "execution_count": null,
   "metadata": {},
   "outputs": [],
   "source": [
    "import json\n",
    "import os"
   ]
  },
  {
   "cell_type": "code",
   "execution_count": null,
   "metadata": {},
   "outputs": [],
   "source": [
    "def loadPaperMetadata (filepath):\n",
    "    with open(filepath, 'r') as file:\n",
    "        paperMetadata = json.load(file)\n",
    "        return paperMetadata"
   ]
  },
  {
   "cell_type": "code",
   "execution_count": null,
   "metadata": {},
   "outputs": [],
   "source": [
    "directory = '../data/paperMetadata'\n",
    "metadata = []\n",
    "\n",
    "for filename in os.listdir(directory):\n",
    "    filepath = os.path.join(directory, filename)\n",
    "\n",
    "    if os.path.isfile(filepath):\n",
    "        paperMetadata = loadPaperMetadata(filepath)\n",
    "        if paperMetadata:\n",
    "            metadata.append(paperMetadata)"
   ]
  },
  {
   "cell_type": "code",
   "execution_count": null,
   "metadata": {},
   "outputs": [],
   "source": [
    "metadata_yearSortedDescending = sorted(metadata, key=lambda x: x['publicationDate'] if ('publicationDate' in x) and (x['publicationDate']) else str(x['year']), reverse=True)"
   ]
  },
  {
   "cell_type": "code",
   "execution_count": null,
   "metadata": {},
   "outputs": [],
   "source": [
    "paperScholarId = {paperMetadata['paperId']: i for i, paperMetadata in enumerate(metadata)}"
   ]
  },
  {
   "cell_type": "code",
   "execution_count": null,
   "metadata": {},
   "outputs": [],
   "source": [
    "for paperMetadata in metadata:\n",
    "    print(paperMetadata['externalIds']['DOI'], '/ ', paperMetadata['referenceCount'])"
   ]
  },
  {
   "cell_type": "code",
   "execution_count": null,
   "metadata": {},
   "outputs": [],
   "source": [
    "print(metadata[1]['title'])\n",
    "[reference['title'] for reference in metadata[1]['references'] if reference['paperId'] in paperScholarId]"
   ]
  },
  {
   "cell_type": "code",
   "execution_count": null,
   "metadata": {},
   "outputs": [],
   "source": [
    "for i,paperMetadata in enumerate(metadata):\n",
    "    title_noSpecialChar = paperMetadata['title'].replace('\"','')\n",
    "    print(f\"  id{i}[\\\"`{title_noSpecialChar}<br>{paperMetadata['externalIds']['DOI']}<br>{paperMetadata['year']}`\\\"];\")"
   ]
  },
  {
   "cell_type": "code",
   "execution_count": null,
   "metadata": {},
   "outputs": [],
   "source": [
    "\n",
    "cnt = 0\n",
    "\n",
    "for i,paperMetadata in enumerate(metadata):\n",
    "    surveyReferenceCount = len([reference['paperId'] for reference in paperMetadata['references'] if (reference['paperId'] in paperScholarId)])\n",
    "    if surveyReferenceCount > 5:\n",
    "        continue\n",
    "    #print(i, len([reference['paperId'] for reference in paperMetadata['references'] if (reference['paperId'] in paperScholarId)]))\n",
    "    for reference in paperMetadata['references']:\n",
    "        if (reference['paperId'] in paperScholarId) and (cnt < 500):\n",
    "            j = paperScholarId[reference['paperId']]\n",
    "            print(f'  id{i} --> id{j};')\n",
    "            cnt += 1\n"
   ]
  },
  {
   "cell_type": "code",
   "execution_count": null,
   "metadata": {},
   "outputs": [],
   "source": [
    "cnt"
   ]
  },
  {
   "cell_type": "markdown",
   "metadata": {},
   "source": [
    "terms:\n",
    "- text, literature\n",
    "- high-dimensional, dimension\n",
    "- graph, network, tree, matrix\n",
    "- volume, surface, flow\n",
    "- software, program\n",
    "- task"
   ]
  },
  {
   "cell_type": "code",
   "execution_count": null,
   "metadata": {},
   "outputs": [],
   "source": [
    "def printNode (paperMetadata):\n",
    "    title_noSpecialChar = paperMetadata['title'].replace('\"','')\n",
    "    print(f\"  id{i}[\\\"`{title_noSpecialChar}<br>{paperMetadata['externalIds']['DOI']}<br>{paperMetadata['year']}`\\\"];\")\n",
    "\n",
    "for i,paperMetadata in enumerate(metadata_yearSortedDescending):\n",
    "    if 'uncertainty' in paperMetadata['title'].lower():\n",
    "        #print(paperMetadata['title'])\n",
    "        printNode(paperMetadata)"
   ]
  },
  {
   "cell_type": "code",
   "execution_count": null,
   "metadata": {},
   "outputs": [],
   "source": [
    "terms = [\"text\", \"literature\", \n",
    "         \"high-dimensional\", \"dimension\", \n",
    "         \"graph\", \"network\", \"tree\", \"matrix\", \"set\", \"edge\", \n",
    "         \"volume\", \"surface\", \"flow\", \n",
    "         \"software\", \"program\", \"algorithm\",\n",
    "         \"task\", \"chart\", \"grammar\", \"information visualization\",\n",
    "         \"uncertainty\"]\n",
    "\n",
    "filtered_entries = [(i,entry) for i,entry in enumerate(metadata) if not any(term in entry['title'].lower() for term in terms)]\n",
    "\n",
    "for (i,paper) in filtered_entries:\n",
    "    print(paper['title'])"
   ]
  },
  {
   "cell_type": "code",
   "execution_count": null,
   "metadata": {},
   "outputs": [],
   "source": [
    "paper"
   ]
  },
  {
   "cell_type": "code",
   "execution_count": null,
   "metadata": {},
   "outputs": [],
   "source": [
    "for i,paperMetadata in enumerate(metadata_yearSortedDescending):\n",
    "    print(paperMetadata['title'])\n",
    "    for reference in paperMetadata['references']:\n",
    "        if reference['paperId'] in paperScholarId:\n",
    "            print('   ', reference['title'])"
   ]
  },
  {
   "cell_type": "code",
   "execution_count": null,
   "metadata": {},
   "outputs": [],
   "source": []
  }
 ],
 "metadata": {
  "kernelspec": {
   "display_name": "literature-collection",
   "language": "python",
   "name": "python3"
  },
  "language_info": {
   "codemirror_mode": {
    "name": "ipython",
    "version": 3
   },
   "file_extension": ".py",
   "mimetype": "text/x-python",
   "name": "python",
   "nbconvert_exporter": "python",
   "pygments_lexer": "ipython3",
   "version": "3.11.9"
  }
 },
 "nbformat": 4,
 "nbformat_minor": 2
}
